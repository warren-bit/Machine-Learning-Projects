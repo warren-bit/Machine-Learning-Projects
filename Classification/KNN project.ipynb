{
 "cells": [
  {
   "cell_type": "code",
   "execution_count": 1,
   "id": "dcf867cc-cc02-4d67-9179-01d1b9cf28b9",
   "metadata": {},
   "outputs": [
    {
     "ename": "ModuleNotFoundError",
     "evalue": "No module named 'sklearn'",
     "output_type": "error",
     "traceback": [
      "\u001b[1;31m---------------------------------------------------------------------------\u001b[0m",
      "\u001b[1;31mModuleNotFoundError\u001b[0m                       Traceback (most recent call last)",
      "\u001b[1;32mc:\\Users\\Dell\\my repos\\Machine Learning Projects\\KNN project.ipynb Cell 1\u001b[0m in \u001b[0;36m3\n\u001b[0;32m      <a href='vscode-notebook-cell:/c%3A/Users/Dell/my%20repos/Machine%20Learning%20Projects/KNN%20project.ipynb#W0sZmlsZQ%3D%3D?line=0'>1</a>\u001b[0m \u001b[39mimport\u001b[39;00m \u001b[39mpandas\u001b[39;00m \u001b[39mas\u001b[39;00m \u001b[39mpd\u001b[39;00m\n\u001b[0;32m      <a href='vscode-notebook-cell:/c%3A/Users/Dell/my%20repos/Machine%20Learning%20Projects/KNN%20project.ipynb#W0sZmlsZQ%3D%3D?line=1'>2</a>\u001b[0m \u001b[39mimport\u001b[39;00m \u001b[39mnumpy\u001b[39;00m \u001b[39mas\u001b[39;00m \u001b[39mnp\u001b[39;00m\n\u001b[1;32m----> <a href='vscode-notebook-cell:/c%3A/Users/Dell/my%20repos/Machine%20Learning%20Projects/KNN%20project.ipynb#W0sZmlsZQ%3D%3D?line=2'>3</a>\u001b[0m \u001b[39mfrom\u001b[39;00m \u001b[39msklearn\u001b[39;00m \u001b[39mimport\u001b[39;00m preprocessing\n\u001b[0;32m      <a href='vscode-notebook-cell:/c%3A/Users/Dell/my%20repos/Machine%20Learning%20Projects/KNN%20project.ipynb#W0sZmlsZQ%3D%3D?line=3'>4</a>\u001b[0m \u001b[39mimport\u001b[39;00m \u001b[39mmatplotlib\u001b[39;00m\u001b[39m.\u001b[39;00m\u001b[39mpyplot\u001b[39;00m \u001b[39mas\u001b[39;00m \u001b[39mplt\u001b[39;00m\n\u001b[0;32m      <a href='vscode-notebook-cell:/c%3A/Users/Dell/my%20repos/Machine%20Learning%20Projects/KNN%20project.ipynb#W0sZmlsZQ%3D%3D?line=4'>5</a>\u001b[0m \u001b[39mimport\u001b[39;00m \u001b[39mseaborn\u001b[39;00m \u001b[39mas\u001b[39;00m \u001b[39msns\u001b[39;00m\n",
      "\u001b[1;31mModuleNotFoundError\u001b[0m: No module named 'sklearn'"
     ]
    }
   ],
   "source": [
    "import pandas as pd\n",
    "import numpy as np\n",
    "from sklearn import preprocessing\n",
    "import matplotlib.pyplot as plt\n",
    "import seaborn as sns"
   ]
  },
  {
   "cell_type": "code",
   "execution_count": 2,
   "id": "d30c639d-91b1-4c7d-8d82-4df8e93a2ee9",
   "metadata": {},
   "outputs": [
    {
     "data": {
      "text/html": [
       "<div>\n",
       "<style scoped>\n",
       "    .dataframe tbody tr th:only-of-type {\n",
       "        vertical-align: middle;\n",
       "    }\n",
       "\n",
       "    .dataframe tbody tr th {\n",
       "        vertical-align: top;\n",
       "    }\n",
       "\n",
       "    .dataframe thead th {\n",
       "        text-align: right;\n",
       "    }\n",
       "</style>\n",
       "<table border=\"1\" class=\"dataframe\">\n",
       "  <thead>\n",
       "    <tr style=\"text-align: right;\">\n",
       "      <th></th>\n",
       "      <th>MODELYEAR</th>\n",
       "      <th>MAKE</th>\n",
       "      <th>MODEL</th>\n",
       "      <th>VEHICLECLASS</th>\n",
       "      <th>ENGINESIZE</th>\n",
       "      <th>CYLINDERS</th>\n",
       "      <th>TRANSMISSION</th>\n",
       "      <th>FUELTYPE</th>\n",
       "      <th>FUELCONSUMPTION_CITY</th>\n",
       "      <th>FUELCONSUMPTION_HWY</th>\n",
       "      <th>FUELCONSUMPTION_COMB</th>\n",
       "      <th>FUELCONSUMPTION_COMB_MPG</th>\n",
       "      <th>CO2EMISSIONS</th>\n",
       "    </tr>\n",
       "  </thead>\n",
       "  <tbody>\n",
       "    <tr>\n",
       "      <th>0</th>\n",
       "      <td>2014</td>\n",
       "      <td>ACURA</td>\n",
       "      <td>ILX</td>\n",
       "      <td>COMPACT</td>\n",
       "      <td>2.0</td>\n",
       "      <td>4</td>\n",
       "      <td>AS5</td>\n",
       "      <td>Z</td>\n",
       "      <td>9.9</td>\n",
       "      <td>6.7</td>\n",
       "      <td>8.5</td>\n",
       "      <td>33</td>\n",
       "      <td>196</td>\n",
       "    </tr>\n",
       "    <tr>\n",
       "      <th>1</th>\n",
       "      <td>2014</td>\n",
       "      <td>ACURA</td>\n",
       "      <td>ILX</td>\n",
       "      <td>COMPACT</td>\n",
       "      <td>2.4</td>\n",
       "      <td>4</td>\n",
       "      <td>M6</td>\n",
       "      <td>Z</td>\n",
       "      <td>11.2</td>\n",
       "      <td>7.7</td>\n",
       "      <td>9.6</td>\n",
       "      <td>29</td>\n",
       "      <td>221</td>\n",
       "    </tr>\n",
       "    <tr>\n",
       "      <th>2</th>\n",
       "      <td>2014</td>\n",
       "      <td>ACURA</td>\n",
       "      <td>ILX HYBRID</td>\n",
       "      <td>COMPACT</td>\n",
       "      <td>1.5</td>\n",
       "      <td>4</td>\n",
       "      <td>AV7</td>\n",
       "      <td>Z</td>\n",
       "      <td>6.0</td>\n",
       "      <td>5.8</td>\n",
       "      <td>5.9</td>\n",
       "      <td>48</td>\n",
       "      <td>136</td>\n",
       "    </tr>\n",
       "    <tr>\n",
       "      <th>3</th>\n",
       "      <td>2014</td>\n",
       "      <td>ACURA</td>\n",
       "      <td>MDX 4WD</td>\n",
       "      <td>SUV - SMALL</td>\n",
       "      <td>3.5</td>\n",
       "      <td>6</td>\n",
       "      <td>AS6</td>\n",
       "      <td>Z</td>\n",
       "      <td>12.7</td>\n",
       "      <td>9.1</td>\n",
       "      <td>11.1</td>\n",
       "      <td>25</td>\n",
       "      <td>255</td>\n",
       "    </tr>\n",
       "    <tr>\n",
       "      <th>4</th>\n",
       "      <td>2014</td>\n",
       "      <td>ACURA</td>\n",
       "      <td>RDX AWD</td>\n",
       "      <td>SUV - SMALL</td>\n",
       "      <td>3.5</td>\n",
       "      <td>6</td>\n",
       "      <td>AS6</td>\n",
       "      <td>Z</td>\n",
       "      <td>12.1</td>\n",
       "      <td>8.7</td>\n",
       "      <td>10.6</td>\n",
       "      <td>27</td>\n",
       "      <td>244</td>\n",
       "    </tr>\n",
       "  </tbody>\n",
       "</table>\n",
       "</div>"
      ],
      "text/plain": [
       "   MODELYEAR   MAKE       MODEL VEHICLECLASS  ENGINESIZE  CYLINDERS  \\\n",
       "0       2014  ACURA         ILX      COMPACT         2.0          4   \n",
       "1       2014  ACURA         ILX      COMPACT         2.4          4   \n",
       "2       2014  ACURA  ILX HYBRID      COMPACT         1.5          4   \n",
       "3       2014  ACURA     MDX 4WD  SUV - SMALL         3.5          6   \n",
       "4       2014  ACURA     RDX AWD  SUV - SMALL         3.5          6   \n",
       "\n",
       "  TRANSMISSION FUELTYPE  FUELCONSUMPTION_CITY  FUELCONSUMPTION_HWY  \\\n",
       "0          AS5        Z                   9.9                  6.7   \n",
       "1           M6        Z                  11.2                  7.7   \n",
       "2          AV7        Z                   6.0                  5.8   \n",
       "3          AS6        Z                  12.7                  9.1   \n",
       "4          AS6        Z                  12.1                  8.7   \n",
       "\n",
       "   FUELCONSUMPTION_COMB  FUELCONSUMPTION_COMB_MPG  CO2EMISSIONS  \n",
       "0                   8.5                        33           196  \n",
       "1                   9.6                        29           221  \n",
       "2                   5.9                        48           136  \n",
       "3                  11.1                        25           255  \n",
       "4                  10.6                        27           244  "
      ]
     },
     "execution_count": 2,
     "metadata": {},
     "output_type": "execute_result"
    }
   ],
   "source": [
    "df = pd.read_csv(\"FuelConsumptionCo2.csv\")\n",
    "df.head()"
   ]
  },
  {
   "cell_type": "code",
   "execution_count": 3,
   "id": "be406f9b-d7f1-4d36-b6f1-d508f8054f0f",
   "metadata": {},
   "outputs": [
    {
     "data": {
      "text/plain": [
       "MODELYEAR                     int64\n",
       "MAKE                         object\n",
       "MODEL                        object\n",
       "VEHICLECLASS                 object\n",
       "ENGINESIZE                  float64\n",
       "CYLINDERS                     int64\n",
       "TRANSMISSION                 object\n",
       "FUELTYPE                     object\n",
       "FUELCONSUMPTION_CITY        float64\n",
       "FUELCONSUMPTION_HWY         float64\n",
       "FUELCONSUMPTION_COMB        float64\n",
       "FUELCONSUMPTION_COMB_MPG      int64\n",
       "CO2EMISSIONS                  int64\n",
       "dtype: object"
      ]
     },
     "execution_count": 3,
     "metadata": {},
     "output_type": "execute_result"
    }
   ],
   "source": [
    "df.dtypes"
   ]
  },
  {
   "cell_type": "code",
   "execution_count": 4,
   "id": "b01d913f-2c6d-4239-bcb9-f43495f34c9e",
   "metadata": {},
   "outputs": [
    {
     "data": {
      "text/plain": [
       "(1067, 13)"
      ]
     },
     "execution_count": 4,
     "metadata": {},
     "output_type": "execute_result"
    }
   ],
   "source": [
    "df.shape"
   ]
  },
  {
   "cell_type": "code",
   "execution_count": 5,
   "id": "94563234-0d76-4691-8626-b24e154efe6c",
   "metadata": {},
   "outputs": [
    {
     "data": {
      "text/plain": [
       "array([[ 9.9,  6.7,  8.5, 33. ],\n",
       "       [11.2,  7.7,  9.6, 29. ],\n",
       "       [ 6. ,  5.8,  5.9, 48. ],\n",
       "       ...,\n",
       "       [13.4,  9.8, 11.8, 24. ],\n",
       "       [12.9,  9.3, 11.3, 25. ],\n",
       "       [14.9, 10.2, 12.8, 22. ]])"
      ]
     },
     "execution_count": 5,
     "metadata": {},
     "output_type": "execute_result"
    }
   ],
   "source": [
    "# setting our predictor and predicted variables\n",
    "X = np.array(df[[\"FUELCONSUMPTION_CITY\", \"FUELCONSUMPTION_HWY\",\"FUELCONSUMPTION_COMB\", \"FUELCONSUMPTION_COMB_MPG\"]])\n",
    "Y = np.array(df[\"CO2EMISSIONS\"])\n",
    "X"
   ]
  },
  {
   "cell_type": "markdown",
   "id": "a3205fcb-ac3b-4bcf-8880-903d1ac106ff",
   "metadata": {},
   "source": [
    "Performing data standardization"
   ]
  },
  {
   "cell_type": "code",
   "execution_count": 6,
   "id": "12d3ba69-f273-4e79-8732-c0be00f8f76c",
   "metadata": {},
   "outputs": [
    {
     "data": {
      "text/plain": [
       "array([[-0.82855772, -0.99334135, -0.88430407,  0.87855306],\n",
       "       [-0.5114328 , -0.63532912, -0.5685715 ,  0.34273362],\n",
       "       [-1.77993246, -1.31555236, -1.63058106,  2.88787597],\n",
       "       [-0.14551944, -0.13411199, -0.13802708, -0.19308583],\n",
       "       [-0.29188478, -0.27731688, -0.28154188,  0.0748239 ],\n",
       "       [-0.34067323, -0.63532912, -0.45375965,  0.20877876],\n",
       "       [-0.36506745, -0.49212422, -0.42505669,  0.20877876],\n",
       "       [-0.12112521, -0.16991321, -0.13802708, -0.19308583],\n",
       "       [ 0.02524013,  0.00909291,  0.00548773, -0.32704069],\n",
       "       [-0.65779815, -0.70693156, -0.68338334,  0.61064334]])"
      ]
     },
     "execution_count": 6,
     "metadata": {},
     "output_type": "execute_result"
    }
   ],
   "source": [
    "X = preprocessing.StandardScaler().fit(X).transform(X.astype(float))\n",
    "X[0:10]"
   ]
  },
  {
   "cell_type": "markdown",
   "id": "a11c784a-0ed6-414a-8d33-e9990d61b102",
   "metadata": {},
   "source": [
    "Dividing the dataset into training set and test set"
   ]
  },
  {
   "cell_type": "code",
   "execution_count": 7,
   "id": "05db8a4b-210b-4131-9e7a-8b4bb033bb3c",
   "metadata": {},
   "outputs": [
    {
     "data": {
      "text/plain": [
       "(853, 4)"
      ]
     },
     "execution_count": 7,
     "metadata": {},
     "output_type": "execute_result"
    }
   ],
   "source": [
    "from sklearn.model_selection import train_test_split\n",
    "\n",
    "X_train, X_test, Y_train, Y_test = train_test_split(X,Y, test_size=0.20, random_state=1)\n",
    "X_train.shape"
   ]
  },
  {
   "cell_type": "markdown",
   "id": "86d03f01-263d-40b6-a8a3-ad35c5bd8984",
   "metadata": {},
   "source": [
    "## K Nearest Neighbor (KNN)"
   ]
  },
  {
   "cell_type": "markdown",
   "id": "73eae159-a2a2-43a7-a570-b135ff7ab679",
   "metadata": {},
   "source": [
    "Developing model"
   ]
  },
  {
   "cell_type": "code",
   "execution_count": 34,
   "id": "dab92f2f-a8fa-47ca-8c85-4145df20e645",
   "metadata": {},
   "outputs": [
    {
     "data": {
      "text/plain": [
       "KNeighborsClassifier(n_neighbors=1)"
      ]
     },
     "execution_count": 34,
     "metadata": {},
     "output_type": "execute_result"
    }
   ],
   "source": [
    "from sklearn.neighbors import KNeighborsClassifier\n",
    "# training the model\n",
    "k = 1\n",
    "knn =KNeighborsClassifier(n_neighbors=k).fit(X_train, Y_train)\n",
    "knn"
   ]
  },
  {
   "cell_type": "code",
   "execution_count": 35,
   "id": "15f60543-9810-4852-9df5-e2fc8876d6c6",
   "metadata": {},
   "outputs": [
    {
     "data": {
      "text/plain": [
       "array([274, 200, 196, 161, 320, 224, 163, 189, 221, 182], dtype=int64)"
      ]
     },
     "execution_count": 35,
     "metadata": {},
     "output_type": "execute_result"
    }
   ],
   "source": [
    "# predicting\n",
    "yhat = knn.predict(X_test)\n",
    "yhat[0:10]"
   ]
  },
  {
   "cell_type": "markdown",
   "id": "de2bfeb3-b870-44cd-a6c5-3357fa2bb3d1",
   "metadata": {},
   "source": [
    "### Accuracy evaluation"
   ]
  },
  {
   "cell_type": "code",
   "execution_count": 36,
   "id": "02a0d20e-0510-4023-bb65-b92084dc5832",
   "metadata": {},
   "outputs": [
    {
     "name": "stdout",
     "output_type": "stream",
     "text": [
      "Train set accuracy 0.9859320046893317\n",
      "Test set accuracy 0.7570093457943925\n"
     ]
    }
   ],
   "source": [
    "from sklearn import metrics\n",
    "print(\"Train set accuracy\", metrics.accuracy_score(Y_train, knn.predict(X_train)))\n",
    "print(\"Test set accuracy\", metrics.accuracy_score(Y_test, knn.predict(X_test)))"
   ]
  },
  {
   "cell_type": "markdown",
   "id": "62de2302-d1a6-4361-ba08-08429abdc993",
   "metadata": {},
   "source": [
    "Visualizing using a distibution plot"
   ]
  },
  {
   "cell_type": "code",
   "execution_count": 38,
   "id": "58c633bd-c2b9-441d-98e6-ce31de786299",
   "metadata": {},
   "outputs": [
    {
     "name": "stderr",
     "output_type": "stream",
     "text": [
      "C:\\ProgramData\\Anaconda3\\lib\\site-packages\\seaborn\\distributions.py:2619: FutureWarning: `distplot` is a deprecated function and will be removed in a future version. Please adapt your code to use either `displot` (a figure-level function with similar flexibility) or `kdeplot` (an axes-level function for kernel density plots).\n",
      "  warnings.warn(msg, FutureWarning)\n",
      "C:\\ProgramData\\Anaconda3\\lib\\site-packages\\seaborn\\distributions.py:2619: FutureWarning: `distplot` is a deprecated function and will be removed in a future version. Please adapt your code to use either `displot` (a figure-level function with similar flexibility) or `kdeplot` (an axes-level function for kernel density plots).\n",
      "  warnings.warn(msg, FutureWarning)\n"
     ]
    },
    {
     "data": {
      "image/png": "[encoded data removed]",
      "text/plain": [
       "<Figure size 720x576 with 1 Axes>"
      ]
     },
     "metadata": {
      "needs_background": "light"
     },
     "output_type": "display_data"
    }
   ],
   "source": [
    "plt.figure(figsize = (10, 8))\n",
    "ax1 = sns.distplot(x = knn.predict(X_test), color = \"r\", hist = False, label = \"Test predictions\")\n",
    "sns.distplot(x = knn.predict(X_train), hist = False, color = \"b\", label = \"Training predictions\", ax = ax1)\n",
    "plt.title(\"Test predictions vs Training predictions \")\n",
    "plt.xlabel(\"CO2 Emissions\")\n",
    "plt.show()"
   ]
  }
 ],
 "metadata": {
  "kernelspec": {
   "display_name": "Python 3 (ipykernel)",
   "language": "python",
   "name": "python3"
  },
  "language_info": {
   "codemirror_mode": {
    "name": "ipython",
    "version": 3
   },
   "file_extension": ".py",
   "mimetype": "text/x-python",
   "name": "python",
   "nbconvert_exporter": "python",
   "pygments_lexer": "ipython3",
   "version": "3.10.7"
  }
 },
 "nbformat": 4,
 "nbformat_minor": 5
}
